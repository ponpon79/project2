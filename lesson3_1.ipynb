{
 "cells": [
  {
   "cell_type": "code",
   "execution_count": 1,
   "metadata": {},
   "outputs": [
    {
     "name": "stdout",
     "output_type": "stream",
     "text": [
      "獎金是1000\n"
     ]
    }
   ],
   "source": [
    "#國文分數100 同時 數學分數100  獎金1000\n",
    "#國文分數100 或者 數學分數100  獎金500\n",
    "\n",
    "chinese = int(input('請輸入國文分數:'))\n",
    "math = int(input('請輸入數學分數:'))\n",
    "\n",
    "if chinese == 100:\n",
    "    if math == 100:\n",
    "        bonus = 1000\n",
    "    else:\n",
    "        bonus = 500\n",
    "else:\n",
    "    if math == 100:\n",
    "        bonus = 500\n",
    "    else:\n",
    "        bonus = 0\n",
    "print(f\"獎金是{bonus}\")"
   ]
  },
  {
   "cell_type": "code",
   "execution_count": 2,
   "metadata": {},
   "outputs": [
    {
     "data": {
      "text/plain": [
       "'\\n巢狀選擇\\n• 如果x不是負數，則傳回值為 x ** (1 / y)。\\n• 如果x是負數而且為偶數，則傳回值為\"虛數\"。\\n• 如果x是負數而且為奇數，則傳回值為 -(-x) ** (1 / y)。\\n\\n'"
      ]
     },
     "execution_count": 2,
     "metadata": {},
     "output_type": "execute_result"
    }
   ],
   "source": [
    "#作業\n",
    "'''\n",
    "巢狀選擇\n",
    "• 如果x不是負數，則傳回值為 x ** (1 / y)。\n",
    "• 如果x是負數而且為偶數，則傳回值為\"虛數\"。\n",
    "• 如果x是負數而且為奇數，則傳回值為 -(-x) ** (1 / y)。\n",
    "\n",
    "'''"
   ]
  }
 ],
 "metadata": {
  "kernelspec": {
   "display_name": "Python 3.10.8 64-bit",
   "language": "python",
   "name": "python3"
  },
  "language_info": {
   "codemirror_mode": {
    "name": "ipython",
    "version": 3
   },
   "file_extension": ".py",
   "mimetype": "text/x-python",
   "name": "python",
   "nbconvert_exporter": "python",
   "pygments_lexer": "ipython3",
   "version": "3.10.8"
  },
  "orig_nbformat": 4,
  "vscode": {
   "interpreter": {
    "hash": "2cecb92da02c8b98f4101d22276476b1c28eb527ceb2bbde7375dd542609dce3"
   }
  }
 },
 "nbformat": 4,
 "nbformat_minor": 2
}
