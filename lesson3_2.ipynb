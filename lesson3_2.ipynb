{
 "cells": [
  {
   "cell_type": "code",
   "execution_count": 1,
   "metadata": {},
   "outputs": [
    {
     "name": "stdout",
     "output_type": "stream",
     "text": [
      "獎金:1000\n"
     ]
    }
   ],
   "source": [
    "#邏輯運算子\n",
    "#國文分數100 同時 數學分數100  獎金1000\n",
    "#國文分數100 或者 數學分數100  獎金500\n",
    "\n",
    "chinese = int(input('請輸入國文分數:'))\n",
    "math = int(input('請輸入數學分數:'))\n",
    "bonus = 0\n",
    "\n",
    "if chinese == 100 and math == 100:\n",
    "    bonus = 1000\n",
    "elif chinese == 100 or math == 100:\n",
    "    bonus = 500\n",
    "else:\n",
    "    bonus = 0\n",
    "\n",
    "print(f'獎金:{bonus}')"
   ]
  },
  {
   "cell_type": "code",
   "execution_count": 10,
   "metadata": {},
   "outputs": [
    {
     "name": "stdout",
     "output_type": "stream",
     "text": [
      "BMI=20.20\n",
      "正常範圍\n"
     ]
    }
   ],
   "source": [
    "#計算BMI\n",
    "height = eval(input('請輸入身高(公分):'))\n",
    "weight = eval(input('請輸入體重(公斤):'))\n",
    "\n",
    "bmi = weight / (height / 100) ** 2\n",
    "\n",
    "print(f'BMI={bmi:.2f}')\n",
    "\n",
    "if bmi >= 35:\n",
    "    print('重度肥胖')\n",
    "elif bmi >= 30:\n",
    "    print('中度肥胖')\n",
    "elif bmi >= 27:\n",
    "    print('輕度肥胖')\n",
    "elif bmi >= 24:\n",
    "    print('過重')\n",
    "elif bmi >= 18.5:\n",
    "    print('正常範圍')\n",
    "else:\n",
    "    print('體重過輕')"
   ]
  },
  {
   "cell_type": "code",
   "execution_count": 7,
   "metadata": {},
   "outputs": [
    {
     "name": "stdout",
     "output_type": "stream",
     "text": [
      "BMI=14.70\n",
      "體重過輕\n"
     ]
    }
   ],
   "source": [
    "#計算bmi\n",
    "height = eval(input(\"請輸入身高(公分):\"))\n",
    "weight = eval(input(\"請輸入體重(公斤):\"))\n",
    "\n",
    "bmi = weight / (height / 100) ** 2\n",
    "\n",
    "print(f\"BMI={bmi:.2f}\")\n",
    "\n",
    "if bmi < 18.5 :\n",
    "    state = \"體重過輕\"\n",
    "elif bmi < 24:\n",
    "    state = \"正常\"\n",
    "elif bmi < 27:\n",
    "    state = \"體重過重\"\n",
    "elif bmi < 30:\n",
    "    state = \"輕度肥胖\"\n",
    "elif bmi < 35:\n",
    "    state = \"中度肥胖\"\n",
    "else:\n",
    "    state = \"重度肥胖\"\n",
    "\n",
    "print(state)"
   ]
  }
 ],
 "metadata": {
  "kernelspec": {
   "display_name": "Python 3.10.8 64-bit",
   "language": "python",
   "name": "python3"
  },
  "language_info": {
   "codemirror_mode": {
    "name": "ipython",
    "version": 3
   },
   "file_extension": ".py",
   "mimetype": "text/x-python",
   "name": "python",
   "nbconvert_exporter": "python",
   "pygments_lexer": "ipython3",
   "version": "3.10.8"
  },
  "orig_nbformat": 4,
  "vscode": {
   "interpreter": {
    "hash": "2cecb92da02c8b98f4101d22276476b1c28eb527ceb2bbde7375dd542609dce3"
   }
  }
 },
 "nbformat": 4,
 "nbformat_minor": 2
}
