{
 "cells": [
  {
   "cell_type": "code",
   "execution_count": 1,
   "metadata": {},
   "outputs": [
    {
     "data": {
      "text/plain": [
       "0.2303972852514362"
      ]
     },
     "execution_count": 1,
     "metadata": {},
     "output_type": "execute_result"
    }
   ],
   "source": [
    "import random\n",
    "random.random()"
   ]
  },
  {
   "cell_type": "code",
   "execution_count": 4,
   "metadata": {},
   "outputs": [
    {
     "name": "stdout",
     "output_type": "stream",
     "text": [
      "6.862810282202107\n",
      "99.3191731798964\n"
     ]
    }
   ],
   "source": [
    "print(random.uniform(1,10))\n",
    "print(random.uniform(99,100))"
   ]
  },
  {
   "cell_type": "code",
   "execution_count": 14,
   "metadata": {},
   "outputs": [
    {
     "name": "stdout",
     "output_type": "stream",
     "text": [
      "=======猜數字遊戲=======\n",
      "再大一點\n",
      "您已經猜了1次\n",
      "再大一點\n",
      "您已經猜了2次\n",
      "再大一點\n",
      "您已經猜了3次\n",
      "猜對了,答案是:95\n",
      "您總共猜4次\n",
      "遊戲結束\n"
     ]
    }
   ],
   "source": [
    "min = 1\n",
    "max = 100\n",
    "count = 0\n",
    "random_value = random.randint(min,max)\n",
    "print(\"=======猜數字遊戲=======\")\n",
    "while True:\n",
    "    count += 1\n",
    "    keyin = int(input(f\"猜數字的範圍{min}~{max}:\"))\n",
    "    if keyin >= min and keyin <= max:\n",
    "        if(keyin == random_value):\n",
    "            print(f\"猜對了,答案是:{random_value}\")\n",
    "            print(f\"您總共猜{count}次\")\n",
    "            break\n",
    "        elif keyin > random_value:\n",
    "            print(\"再小一點\")\n",
    "            max = keyin - 1\n",
    "        elif keyin < random_value:\n",
    "            print(\"再大一點\")\n",
    "            min = keyin + 1\n",
    "        print(f\"您已經猜了{count}次\")\n",
    "    else:\n",
    "        print(\"超出範圍\")\n",
    "print(\"遊戲結束\")"
   ]
  }
 ],
 "metadata": {
  "kernelspec": {
   "display_name": "Python 3.10.8 64-bit",
   "language": "python",
   "name": "python3"
  },
  "language_info": {
   "codemirror_mode": {
    "name": "ipython",
    "version": 3
   },
   "file_extension": ".py",
   "mimetype": "text/x-python",
   "name": "python",
   "nbconvert_exporter": "python",
   "pygments_lexer": "ipython3",
   "version": "3.10.8"
  },
  "orig_nbformat": 4,
  "vscode": {
   "interpreter": {
    "hash": "2cecb92da02c8b98f4101d22276476b1c28eb527ceb2bbde7375dd542609dce3"
   }
  }
 },
 "nbformat": 4,
 "nbformat_minor": 2
}
